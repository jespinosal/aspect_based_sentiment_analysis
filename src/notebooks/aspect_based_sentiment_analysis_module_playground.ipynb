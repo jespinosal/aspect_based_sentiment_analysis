{
  "nbformat": 4,
  "nbformat_minor": 0,
  "metadata": {
    "colab": {
      "name": "aspect_based_sentiment_analysis_module_playground.ipynb",
      "provenance": []
    },
    "kernelspec": {
      "name": "python3",
      "display_name": "Python 3"
    },
    "language_info": {
      "name": "python"
    },
    "accelerator": "GPU"
  },
  "cells": [
    {
      "cell_type": "code",
      "metadata": {
        "id": "JR06pdVCdZn2"
      },
      "source": [
        "import os\n",
        "import nltk\n",
        "from google.colab import drive"
      ],
      "execution_count": 1,
      "outputs": []
    },
    {
      "cell_type": "code",
      "metadata": {
        "colab": {
          "base_uri": "https://localhost:8080/"
        },
        "id": "Qi9G5VwtrAdF",
        "outputId": "6364b3c5-7b1b-4914-dd31-325e4e942dc6"
      },
      "source": [
        "!pip install transformers seqeval datasets\n",
        "!apt install git-lfs\n",
        "#!python3 -m spacy download en_core_web_lg\n",
        "!pip3 install https://github.com/explosion/spacy-models/releases/download/en_core_web_lg-3.1.0/en_core_web_lg-3.1.0-py3-none-any.whl"
      ],
      "execution_count": 2,
      "outputs": [
        {
          "output_type": "stream",
          "name": "stdout",
          "text": [
            "Requirement already satisfied: transformers in /usr/local/lib/python3.7/dist-packages (4.11.3)\n",
            "Requirement already satisfied: seqeval in /usr/local/lib/python3.7/dist-packages (1.2.2)\n",
            "Requirement already satisfied: datasets in /usr/local/lib/python3.7/dist-packages (1.12.1)\n",
            "Requirement already satisfied: importlib-metadata in /usr/local/lib/python3.7/dist-packages (from transformers) (4.8.1)\n",
            "Requirement already satisfied: sacremoses in /usr/local/lib/python3.7/dist-packages (from transformers) (0.0.46)\n",
            "Requirement already satisfied: pyyaml>=5.1 in /usr/local/lib/python3.7/dist-packages (from transformers) (5.4.1)\n",
            "Requirement already satisfied: requests in /usr/local/lib/python3.7/dist-packages (from transformers) (2.23.0)\n",
            "Requirement already satisfied: tqdm>=4.27 in /usr/local/lib/python3.7/dist-packages (from transformers) (4.62.3)\n",
            "Requirement already satisfied: huggingface-hub>=0.0.17 in /usr/local/lib/python3.7/dist-packages (from transformers) (0.0.19)\n",
            "Requirement already satisfied: filelock in /usr/local/lib/python3.7/dist-packages (from transformers) (3.3.0)\n",
            "Requirement already satisfied: numpy>=1.17 in /usr/local/lib/python3.7/dist-packages (from transformers) (1.19.5)\n",
            "Requirement already satisfied: regex!=2019.12.17 in /usr/local/lib/python3.7/dist-packages (from transformers) (2019.12.20)\n",
            "Requirement already satisfied: packaging>=20.0 in /usr/local/lib/python3.7/dist-packages (from transformers) (21.0)\n",
            "Requirement already satisfied: tokenizers<0.11,>=0.10.1 in /usr/local/lib/python3.7/dist-packages (from transformers) (0.10.3)\n",
            "Requirement already satisfied: typing-extensions in /usr/local/lib/python3.7/dist-packages (from huggingface-hub>=0.0.17->transformers) (3.7.4.3)\n",
            "Requirement already satisfied: pyparsing>=2.0.2 in /usr/local/lib/python3.7/dist-packages (from packaging>=20.0->transformers) (2.4.7)\n",
            "Requirement already satisfied: scikit-learn>=0.21.3 in /usr/local/lib/python3.7/dist-packages (from seqeval) (0.22.2.post1)\n",
            "Requirement already satisfied: joblib>=0.11 in /usr/local/lib/python3.7/dist-packages (from scikit-learn>=0.21.3->seqeval) (1.0.1)\n",
            "Requirement already satisfied: scipy>=0.17.0 in /usr/local/lib/python3.7/dist-packages (from scikit-learn>=0.21.3->seqeval) (1.4.1)\n",
            "Requirement already satisfied: xxhash in /usr/local/lib/python3.7/dist-packages (from datasets) (2.0.2)\n",
            "Requirement already satisfied: pyarrow!=4.0.0,>=1.0.0 in /usr/local/lib/python3.7/dist-packages (from datasets) (3.0.0)\n",
            "Requirement already satisfied: fsspec[http]>=2021.05.0 in /usr/local/lib/python3.7/dist-packages (from datasets) (2021.10.0)\n",
            "Requirement already satisfied: dill in /usr/local/lib/python3.7/dist-packages (from datasets) (0.3.4)\n",
            "Requirement already satisfied: multiprocess in /usr/local/lib/python3.7/dist-packages (from datasets) (0.70.12.2)\n",
            "Requirement already satisfied: aiohttp in /usr/local/lib/python3.7/dist-packages (from datasets) (3.7.4.post0)\n",
            "Requirement already satisfied: pandas in /usr/local/lib/python3.7/dist-packages (from datasets) (1.1.5)\n",
            "Requirement already satisfied: certifi>=2017.4.17 in /usr/local/lib/python3.7/dist-packages (from requests->transformers) (2021.5.30)\n",
            "Requirement already satisfied: idna<3,>=2.5 in /usr/local/lib/python3.7/dist-packages (from requests->transformers) (2.10)\n",
            "Requirement already satisfied: chardet<4,>=3.0.2 in /usr/local/lib/python3.7/dist-packages (from requests->transformers) (3.0.4)\n",
            "Requirement already satisfied: urllib3!=1.25.0,!=1.25.1,<1.26,>=1.21.1 in /usr/local/lib/python3.7/dist-packages (from requests->transformers) (1.24.3)\n",
            "Requirement already satisfied: async-timeout<4.0,>=3.0 in /usr/local/lib/python3.7/dist-packages (from aiohttp->datasets) (3.0.1)\n",
            "Requirement already satisfied: attrs>=17.3.0 in /usr/local/lib/python3.7/dist-packages (from aiohttp->datasets) (21.2.0)\n",
            "Requirement already satisfied: yarl<2.0,>=1.0 in /usr/local/lib/python3.7/dist-packages (from aiohttp->datasets) (1.7.0)\n",
            "Requirement already satisfied: multidict<7.0,>=4.5 in /usr/local/lib/python3.7/dist-packages (from aiohttp->datasets) (5.2.0)\n",
            "Requirement already satisfied: zipp>=0.5 in /usr/local/lib/python3.7/dist-packages (from importlib-metadata->transformers) (3.6.0)\n",
            "Requirement already satisfied: python-dateutil>=2.7.3 in /usr/local/lib/python3.7/dist-packages (from pandas->datasets) (2.8.2)\n",
            "Requirement already satisfied: pytz>=2017.2 in /usr/local/lib/python3.7/dist-packages (from pandas->datasets) (2018.9)\n",
            "Requirement already satisfied: six>=1.5 in /usr/local/lib/python3.7/dist-packages (from python-dateutil>=2.7.3->pandas->datasets) (1.15.0)\n",
            "Requirement already satisfied: click in /usr/local/lib/python3.7/dist-packages (from sacremoses->transformers) (7.1.2)\n",
            "Reading package lists... Done\n",
            "Building dependency tree       \n",
            "Reading state information... Done\n",
            "git-lfs is already the newest version (2.3.4-1).\n",
            "0 upgraded, 0 newly installed, 0 to remove and 37 not upgraded.\n",
            "Collecting en-core-web-lg==3.1.0\n",
            "  Downloading https://github.com/explosion/spacy-models/releases/download/en_core_web_lg-3.1.0/en_core_web_lg-3.1.0-py3-none-any.whl (777.1 MB)\n",
            "\u001b[K     |████████████████████████████████| 777.1 MB 16 kB/s \n",
            "\u001b[?25hRequirement already satisfied: spacy<3.2.0,>=3.1.0 in /usr/local/lib/python3.7/dist-packages (from en-core-web-lg==3.1.0) (3.1.3)\n",
            "Requirement already satisfied: spacy-legacy<3.1.0,>=3.0.8 in /usr/local/lib/python3.7/dist-packages (from spacy<3.2.0,>=3.1.0->en-core-web-lg==3.1.0) (3.0.8)\n",
            "Requirement already satisfied: numpy>=1.15.0 in /usr/local/lib/python3.7/dist-packages (from spacy<3.2.0,>=3.1.0->en-core-web-lg==3.1.0) (1.19.5)\n",
            "Requirement already satisfied: murmurhash<1.1.0,>=0.28.0 in /usr/local/lib/python3.7/dist-packages (from spacy<3.2.0,>=3.1.0->en-core-web-lg==3.1.0) (1.0.5)\n",
            "Requirement already satisfied: typing-extensions<4.0.0.0,>=3.7.4 in /usr/local/lib/python3.7/dist-packages (from spacy<3.2.0,>=3.1.0->en-core-web-lg==3.1.0) (3.7.4.3)\n",
            "Requirement already satisfied: pydantic!=1.8,!=1.8.1,<1.9.0,>=1.7.4 in /usr/local/lib/python3.7/dist-packages (from spacy<3.2.0,>=3.1.0->en-core-web-lg==3.1.0) (1.8.2)\n",
            "Requirement already satisfied: wasabi<1.1.0,>=0.8.1 in /usr/local/lib/python3.7/dist-packages (from spacy<3.2.0,>=3.1.0->en-core-web-lg==3.1.0) (0.8.2)\n",
            "Requirement already satisfied: catalogue<2.1.0,>=2.0.6 in /usr/local/lib/python3.7/dist-packages (from spacy<3.2.0,>=3.1.0->en-core-web-lg==3.1.0) (2.0.6)\n",
            "Requirement already satisfied: requests<3.0.0,>=2.13.0 in /usr/local/lib/python3.7/dist-packages (from spacy<3.2.0,>=3.1.0->en-core-web-lg==3.1.0) (2.23.0)\n",
            "Requirement already satisfied: setuptools in /usr/local/lib/python3.7/dist-packages (from spacy<3.2.0,>=3.1.0->en-core-web-lg==3.1.0) (57.4.0)\n",
            "Requirement already satisfied: preshed<3.1.0,>=3.0.2 in /usr/local/lib/python3.7/dist-packages (from spacy<3.2.0,>=3.1.0->en-core-web-lg==3.1.0) (3.0.5)\n",
            "Requirement already satisfied: tqdm<5.0.0,>=4.38.0 in /usr/local/lib/python3.7/dist-packages (from spacy<3.2.0,>=3.1.0->en-core-web-lg==3.1.0) (4.62.3)\n",
            "Requirement already satisfied: pathy>=0.3.5 in /usr/local/lib/python3.7/dist-packages (from spacy<3.2.0,>=3.1.0->en-core-web-lg==3.1.0) (0.6.0)\n",
            "Requirement already satisfied: packaging>=20.0 in /usr/local/lib/python3.7/dist-packages (from spacy<3.2.0,>=3.1.0->en-core-web-lg==3.1.0) (21.0)\n",
            "Requirement already satisfied: jinja2 in /usr/local/lib/python3.7/dist-packages (from spacy<3.2.0,>=3.1.0->en-core-web-lg==3.1.0) (2.11.3)\n",
            "Requirement already satisfied: typer<0.5.0,>=0.3.0 in /usr/local/lib/python3.7/dist-packages (from spacy<3.2.0,>=3.1.0->en-core-web-lg==3.1.0) (0.4.0)\n",
            "Requirement already satisfied: thinc<8.1.0,>=8.0.9 in /usr/local/lib/python3.7/dist-packages (from spacy<3.2.0,>=3.1.0->en-core-web-lg==3.1.0) (8.0.10)\n",
            "Requirement already satisfied: srsly<3.0.0,>=2.4.1 in /usr/local/lib/python3.7/dist-packages (from spacy<3.2.0,>=3.1.0->en-core-web-lg==3.1.0) (2.4.1)\n",
            "Requirement already satisfied: blis<0.8.0,>=0.4.0 in /usr/local/lib/python3.7/dist-packages (from spacy<3.2.0,>=3.1.0->en-core-web-lg==3.1.0) (0.4.1)\n",
            "Requirement already satisfied: cymem<2.1.0,>=2.0.2 in /usr/local/lib/python3.7/dist-packages (from spacy<3.2.0,>=3.1.0->en-core-web-lg==3.1.0) (2.0.5)\n",
            "Requirement already satisfied: zipp>=0.5 in /usr/local/lib/python3.7/dist-packages (from catalogue<2.1.0,>=2.0.6->spacy<3.2.0,>=3.1.0->en-core-web-lg==3.1.0) (3.6.0)\n",
            "Requirement already satisfied: pyparsing>=2.0.2 in /usr/local/lib/python3.7/dist-packages (from packaging>=20.0->spacy<3.2.0,>=3.1.0->en-core-web-lg==3.1.0) (2.4.7)\n",
            "Requirement already satisfied: smart-open<6.0.0,>=5.0.0 in /usr/local/lib/python3.7/dist-packages (from pathy>=0.3.5->spacy<3.2.0,>=3.1.0->en-core-web-lg==3.1.0) (5.2.1)\n",
            "Requirement already satisfied: chardet<4,>=3.0.2 in /usr/local/lib/python3.7/dist-packages (from requests<3.0.0,>=2.13.0->spacy<3.2.0,>=3.1.0->en-core-web-lg==3.1.0) (3.0.4)\n",
            "Requirement already satisfied: idna<3,>=2.5 in /usr/local/lib/python3.7/dist-packages (from requests<3.0.0,>=2.13.0->spacy<3.2.0,>=3.1.0->en-core-web-lg==3.1.0) (2.10)\n",
            "Requirement already satisfied: urllib3!=1.25.0,!=1.25.1,<1.26,>=1.21.1 in /usr/local/lib/python3.7/dist-packages (from requests<3.0.0,>=2.13.0->spacy<3.2.0,>=3.1.0->en-core-web-lg==3.1.0) (1.24.3)\n",
            "Requirement already satisfied: certifi>=2017.4.17 in /usr/local/lib/python3.7/dist-packages (from requests<3.0.0,>=2.13.0->spacy<3.2.0,>=3.1.0->en-core-web-lg==3.1.0) (2021.5.30)\n",
            "Requirement already satisfied: click<9.0.0,>=7.1.1 in /usr/local/lib/python3.7/dist-packages (from typer<0.5.0,>=0.3.0->spacy<3.2.0,>=3.1.0->en-core-web-lg==3.1.0) (7.1.2)\n",
            "Requirement already satisfied: MarkupSafe>=0.23 in /usr/local/lib/python3.7/dist-packages (from jinja2->spacy<3.2.0,>=3.1.0->en-core-web-lg==3.1.0) (2.0.1)\n"
          ]
        }
      ]
    },
    {
      "cell_type": "code",
      "metadata": {
        "colab": {
          "base_uri": "https://localhost:8080/"
        },
        "id": "Sm-ULN5mrDO7",
        "outputId": "ec7989a6-f606-4e21-9722-275bbc42300f"
      },
      "source": [
        "nltk.download('punkt')"
      ],
      "execution_count": 3,
      "outputs": [
        {
          "output_type": "stream",
          "name": "stdout",
          "text": [
            "[nltk_data] Downloading package punkt to /root/nltk_data...\n",
            "[nltk_data]   Package punkt is already up-to-date!\n"
          ]
        },
        {
          "output_type": "execute_result",
          "data": {
            "text/plain": [
              "True"
            ]
          },
          "metadata": {},
          "execution_count": 3
        }
      ]
    },
    {
      "cell_type": "code",
      "metadata": {
        "colab": {
          "base_uri": "https://localhost:8080/"
        },
        "id": "JOG0QzAFrFZn",
        "outputId": "b8ecc964-d173-47f3-e0a2-fc9664374159"
      },
      "source": [
        "mount_folder = os.path.join('/content', 'drive')\n",
        "project_path = os.path.join(mount_folder, 'MyDrive', 'projects', 'product-absa')\n",
        "drive.mount(mount_folder)"
      ],
      "execution_count": 4,
      "outputs": [
        {
          "output_type": "stream",
          "name": "stdout",
          "text": [
            "Drive already mounted at /content/drive; to attempt to forcibly remount, call drive.mount(\"/content/drive\", force_remount=True).\n"
          ]
        }
      ]
    },
    {
      "cell_type": "code",
      "metadata": {
        "colab": {
          "base_uri": "https://localhost:8080/"
        },
        "id": "mlF0tSWtrHkP",
        "outputId": "43fc4300-eb34-48dc-ff49-b9f988b5efa2"
      },
      "source": [
        "%cd {project_path}"
      ],
      "execution_count": 5,
      "outputs": [
        {
          "output_type": "stream",
          "name": "stdout",
          "text": [
            "/content/drive/MyDrive/projects/product-absa\n"
          ]
        }
      ]
    },
    {
      "cell_type": "code",
      "metadata": {
        "id": "IuBNwXoprvmb"
      },
      "source": [
        "from src.models.aspect_based_sentiment_analysis_mgr import AspectSentimentManager\n",
        "aspect_sentiment_manager = AspectSentimentManager()"
      ],
      "execution_count": 6,
      "outputs": []
    },
    {
      "cell_type": "markdown",
      "metadata": {
        "id": "PNWFobfE1Rhr"
      },
      "source": [
        "## Perform aspect extraction and sentiment analysis small batch"
      ]
    },
    {
      "cell_type": "code",
      "metadata": {
        "id": "uPHE55Ah0ado"
      },
      "source": [
        "    review_batch = [\n",
        "                    'The food we had yesterday was delicious. The breakfast was delivered late',\n",
        "                    'My time in Italy was very enjoyable',\n",
        "                    'I found the meal to be tasty',\n",
        "                    'The internet connection was terribly slow.',\n",
        "                    'Our experience was suboptimal',\n",
        "                    'It was a surprise, the screen is not bad',\n",
        "                    'Not sure if the movie sound was the most suitable one'\n",
        "                    ]\n"
      ],
      "execution_count": 7,
      "outputs": []
    },
    {
      "cell_type": "code",
      "metadata": {
        "colab": {
          "base_uri": "https://localhost:8080/"
        },
        "id": "7xQZNTyRsqMO",
        "outputId": "7562e55d-0d2b-4909-9f36-75fa330c941c"
      },
      "source": [
        "df_aspects_sentiment = aspect_sentiment_manager.predict_batch(text_reviews=review_batch, flatten=False)\n",
        "df_aspects_sentiment_flatten = aspect_sentiment_manager.predict_batch(text_reviews=review_batch, flatten=True)"
      ],
      "execution_count": 8,
      "outputs": [
        {
          "output_type": "stream",
          "name": "stderr",
          "text": [
            "7it [00:00, 11.74it/s]\n",
            "7it [00:00, 11.72it/s]\n"
          ]
        }
      ]
    },
    {
      "cell_type": "code",
      "metadata": {
        "colab": {
          "base_uri": "https://localhost:8080/",
          "height": 382
        },
        "id": "CK_S_Gbb1HWO",
        "outputId": "d14ec559-3ee2-40de-8a5e-20968bfd7ff0"
      },
      "source": [
        "df_aspects_sentiment"
      ],
      "execution_count": 9,
      "outputs": [
        {
          "output_type": "execute_result",
          "data": {
            "text/html": [
              "<div>\n",
              "<style scoped>\n",
              "    .dataframe tbody tr th:only-of-type {\n",
              "        vertical-align: middle;\n",
              "    }\n",
              "\n",
              "    .dataframe tbody tr th {\n",
              "        vertical-align: top;\n",
              "    }\n",
              "\n",
              "    .dataframe thead th {\n",
              "        text-align: right;\n",
              "    }\n",
              "</style>\n",
              "<table border=\"1\" class=\"dataframe\">\n",
              "  <thead>\n",
              "    <tr style=\"text-align: right;\">\n",
              "      <th></th>\n",
              "      <th>aspect</th>\n",
              "      <th>modifier</th>\n",
              "      <th>rule</th>\n",
              "      <th>aspect_idx</th>\n",
              "      <th>aspect_i</th>\n",
              "      <th>aspect_sentence</th>\n",
              "      <th>id_review</th>\n",
              "      <th>review</th>\n",
              "      <th>sentiment</th>\n",
              "      <th>sentiment_prob</th>\n",
              "      <th>aspects_aux</th>\n",
              "      <th>polarity_aux</th>\n",
              "      <th>polarity_prob_aux</th>\n",
              "    </tr>\n",
              "  </thead>\n",
              "  <tbody>\n",
              "    <tr>\n",
              "      <th>0</th>\n",
              "      <td>food</td>\n",
              "      <td>delicious</td>\n",
              "      <td>r3</td>\n",
              "      <td>4</td>\n",
              "      <td>1</td>\n",
              "      <td>(The, food, we, had, yesterday, was, delicious)</td>\n",
              "      <td>0</td>\n",
              "      <td>The food we had yesterday was delicious. The b...</td>\n",
              "      <td>Positive</td>\n",
              "      <td>0.997638</td>\n",
              "      <td>[food, breakfast]</td>\n",
              "      <td>[Positive, Positive]</td>\n",
              "      <td>[0.997616171836853, 0.9975097179412842]</td>\n",
              "    </tr>\n",
              "    <tr>\n",
              "      <th>1</th>\n",
              "      <td>breakfast</td>\n",
              "      <td>late</td>\n",
              "      <td>r4</td>\n",
              "      <td>4</td>\n",
              "      <td>1</td>\n",
              "      <td>(The, breakfast, was, delivered, late)</td>\n",
              "      <td>0</td>\n",
              "      <td>The food we had yesterday was delicious. The b...</td>\n",
              "      <td>neutral</td>\n",
              "      <td>0.598951</td>\n",
              "      <td>[food, breakfast]</td>\n",
              "      <td>[Positive, Positive]</td>\n",
              "      <td>[0.997616171836853, 0.9975097179412842]</td>\n",
              "    </tr>\n",
              "    <tr>\n",
              "      <th>0</th>\n",
              "      <td>time</td>\n",
              "      <td>enjoyable</td>\n",
              "      <td>r3</td>\n",
              "      <td>3</td>\n",
              "      <td>1</td>\n",
              "      <td>(My, time, in, Italy, was, very, enjoyable)</td>\n",
              "      <td>1</td>\n",
              "      <td>My time in Italy was very enjoyable</td>\n",
              "      <td>Positive</td>\n",
              "      <td>0.997235</td>\n",
              "      <td>[None]</td>\n",
              "      <td>[Positive]</td>\n",
              "      <td>[0.997235119342804]</td>\n",
              "    </tr>\n",
              "    <tr>\n",
              "      <th>0</th>\n",
              "      <td>meal</td>\n",
              "      <td>tasty</td>\n",
              "      <td>r3</td>\n",
              "      <td>12</td>\n",
              "      <td>3</td>\n",
              "      <td>(I, found, the, meal, to, be, tasty)</td>\n",
              "      <td>2</td>\n",
              "      <td>I found the meal to be tasty</td>\n",
              "      <td>Positive</td>\n",
              "      <td>0.998121</td>\n",
              "      <td>[meal]</td>\n",
              "      <td>[Positive]</td>\n",
              "      <td>[0.9981209635734558]</td>\n",
              "    </tr>\n",
              "    <tr>\n",
              "      <th>0</th>\n",
              "      <td>connection</td>\n",
              "      <td>slow</td>\n",
              "      <td>r3</td>\n",
              "      <td>13</td>\n",
              "      <td>2</td>\n",
              "      <td>(The, internet, connection, was, terribly, slow)</td>\n",
              "      <td>3</td>\n",
              "      <td>The internet connection was terribly slow.</td>\n",
              "      <td>Negative</td>\n",
              "      <td>0.903734</td>\n",
              "      <td>[internet connection]</td>\n",
              "      <td>[Negative]</td>\n",
              "      <td>[0.8881391882896423]</td>\n",
              "    </tr>\n",
              "    <tr>\n",
              "      <th>0</th>\n",
              "      <td>experience</td>\n",
              "      <td>suboptimal</td>\n",
              "      <td>r3</td>\n",
              "      <td>4</td>\n",
              "      <td>1</td>\n",
              "      <td>(Our, experience, was, suboptimal)</td>\n",
              "      <td>4</td>\n",
              "      <td>Our experience was suboptimal</td>\n",
              "      <td>Negative</td>\n",
              "      <td>0.901462</td>\n",
              "      <td>[None]</td>\n",
              "      <td>[Negative]</td>\n",
              "      <td>[0.9014618992805481]</td>\n",
              "    </tr>\n",
              "    <tr>\n",
              "      <th>0</th>\n",
              "      <td>screen</td>\n",
              "      <td>not bad</td>\n",
              "      <td>r3</td>\n",
              "      <td>23</td>\n",
              "      <td>6</td>\n",
              "      <td>(It, was, a, surprise, ,, the, screen, is, not...</td>\n",
              "      <td>5</td>\n",
              "      <td>It was a surprise, the screen is not bad</td>\n",
              "      <td>Positive</td>\n",
              "      <td>0.949025</td>\n",
              "      <td>[screen]</td>\n",
              "      <td>[Positive]</td>\n",
              "      <td>[0.9490248560905457]</td>\n",
              "    </tr>\n",
              "    <tr>\n",
              "      <th>0</th>\n",
              "      <td>one</td>\n",
              "      <td>most suitable</td>\n",
              "      <td>r1</td>\n",
              "      <td>50</td>\n",
              "      <td>10</td>\n",
              "      <td>(Not, sure, if, the, movie, sound, was, the, m...</td>\n",
              "      <td>6</td>\n",
              "      <td>Not sure if the movie sound was the most suita...</td>\n",
              "      <td>Positive</td>\n",
              "      <td>0.949499</td>\n",
              "      <td>[movie sound]</td>\n",
              "      <td>[Positive]</td>\n",
              "      <td>[0.9494986534118652]</td>\n",
              "    </tr>\n",
              "  </tbody>\n",
              "</table>\n",
              "</div>"
            ],
            "text/plain": [
              "       aspect  ...                        polarity_prob_aux\n",
              "0        food  ...  [0.997616171836853, 0.9975097179412842]\n",
              "1   breakfast  ...  [0.997616171836853, 0.9975097179412842]\n",
              "0        time  ...                      [0.997235119342804]\n",
              "0        meal  ...                     [0.9981209635734558]\n",
              "0  connection  ...                     [0.8881391882896423]\n",
              "0  experience  ...                     [0.9014618992805481]\n",
              "0      screen  ...                     [0.9490248560905457]\n",
              "0         one  ...                     [0.9494986534118652]\n",
              "\n",
              "[8 rows x 13 columns]"
            ]
          },
          "metadata": {},
          "execution_count": 9
        }
      ]
    },
    {
      "cell_type": "code",
      "metadata": {
        "colab": {
          "base_uri": "https://localhost:8080/",
          "height": 266
        },
        "id": "1T-ClNex1EZc",
        "outputId": "08162740-a16f-48fe-cbf9-96bfa93940db"
      },
      "source": [
        "df_aspects_sentiment_flatten"
      ],
      "execution_count": 10,
      "outputs": [
        {
          "output_type": "execute_result",
          "data": {
            "text/html": [
              "<div>\n",
              "<style scoped>\n",
              "    .dataframe tbody tr th:only-of-type {\n",
              "        vertical-align: middle;\n",
              "    }\n",
              "\n",
              "    .dataframe tbody tr th {\n",
              "        vertical-align: top;\n",
              "    }\n",
              "\n",
              "    .dataframe thead th {\n",
              "        text-align: right;\n",
              "    }\n",
              "</style>\n",
              "<table border=\"1\" class=\"dataframe\">\n",
              "  <thead>\n",
              "    <tr style=\"text-align: right;\">\n",
              "      <th></th>\n",
              "      <th>id_review</th>\n",
              "      <th>review</th>\n",
              "      <th>aspects</th>\n",
              "      <th>polarity</th>\n",
              "      <th>aspects_aux</th>\n",
              "      <th>polarity_aux</th>\n",
              "    </tr>\n",
              "  </thead>\n",
              "  <tbody>\n",
              "    <tr>\n",
              "      <th>0</th>\n",
              "      <td>0</td>\n",
              "      <td>The food we had yesterday was delicious. The b...</td>\n",
              "      <td>[food, breakfast]</td>\n",
              "      <td>[Positive, neutral]</td>\n",
              "      <td>[food, breakfast]</td>\n",
              "      <td>[Positive, Positive]</td>\n",
              "    </tr>\n",
              "    <tr>\n",
              "      <th>0</th>\n",
              "      <td>1</td>\n",
              "      <td>My time in Italy was very enjoyable</td>\n",
              "      <td>[time]</td>\n",
              "      <td>[Positive]</td>\n",
              "      <td>[None]</td>\n",
              "      <td>[Positive]</td>\n",
              "    </tr>\n",
              "    <tr>\n",
              "      <th>0</th>\n",
              "      <td>2</td>\n",
              "      <td>I found the meal to be tasty</td>\n",
              "      <td>[meal]</td>\n",
              "      <td>[Positive]</td>\n",
              "      <td>[meal]</td>\n",
              "      <td>[Positive]</td>\n",
              "    </tr>\n",
              "    <tr>\n",
              "      <th>0</th>\n",
              "      <td>3</td>\n",
              "      <td>The internet connection was terribly slow.</td>\n",
              "      <td>[connection]</td>\n",
              "      <td>[Negative]</td>\n",
              "      <td>[internet connection]</td>\n",
              "      <td>[Negative]</td>\n",
              "    </tr>\n",
              "    <tr>\n",
              "      <th>0</th>\n",
              "      <td>4</td>\n",
              "      <td>Our experience was suboptimal</td>\n",
              "      <td>[experience]</td>\n",
              "      <td>[Negative]</td>\n",
              "      <td>[None]</td>\n",
              "      <td>[Negative]</td>\n",
              "    </tr>\n",
              "    <tr>\n",
              "      <th>0</th>\n",
              "      <td>5</td>\n",
              "      <td>It was a surprise, the screen is not bad</td>\n",
              "      <td>[screen]</td>\n",
              "      <td>[Positive]</td>\n",
              "      <td>[screen]</td>\n",
              "      <td>[Positive]</td>\n",
              "    </tr>\n",
              "    <tr>\n",
              "      <th>0</th>\n",
              "      <td>6</td>\n",
              "      <td>Not sure if the movie sound was the most suita...</td>\n",
              "      <td>[one]</td>\n",
              "      <td>[Positive]</td>\n",
              "      <td>[movie sound]</td>\n",
              "      <td>[Positive]</td>\n",
              "    </tr>\n",
              "  </tbody>\n",
              "</table>\n",
              "</div>"
            ],
            "text/plain": [
              "   id_review  ...          polarity_aux\n",
              "0          0  ...  [Positive, Positive]\n",
              "0          1  ...            [Positive]\n",
              "0          2  ...            [Positive]\n",
              "0          3  ...            [Negative]\n",
              "0          4  ...            [Negative]\n",
              "0          5  ...            [Positive]\n",
              "0          6  ...            [Positive]\n",
              "\n",
              "[7 rows x 6 columns]"
            ]
          },
          "metadata": {},
          "execution_count": 10
        }
      ]
    },
    {
      "cell_type": "markdown",
      "metadata": {
        "id": "RHy1hZ5N17Ew"
      },
      "source": [
        "## Perform aspect extraction and sentiment analysis large batch"
      ]
    },
    {
      "cell_type": "code",
      "metadata": {
        "colab": {
          "base_uri": "https://localhost:8080/",
          "height": 453
        },
        "id": "unj6lXJo2ZxX",
        "outputId": "be8f9a3d-4a1a-4d7a-e73c-15aac0a74860"
      },
      "source": [
        "import pandas as pd\n",
        "df = pd.read_csv('data/processed/reviews_dataset.csv',sep=';')\n",
        "df"
      ],
      "execution_count": 11,
      "outputs": [
        {
          "output_type": "stream",
          "name": "stderr",
          "text": [
            "/usr/local/lib/python3.7/dist-packages/IPython/core/interactiveshell.py:2718: DtypeWarning: Columns (2) have mixed types.Specify dtype option on import or set low_memory=False.\n",
            "  interactivity=interactivity, compiler=compiler, result=result)\n"
          ]
        },
        {
          "output_type": "execute_result",
          "data": {
            "text/html": [
              "<div>\n",
              "<style scoped>\n",
              "    .dataframe tbody tr th:only-of-type {\n",
              "        vertical-align: middle;\n",
              "    }\n",
              "\n",
              "    .dataframe tbody tr th {\n",
              "        vertical-align: top;\n",
              "    }\n",
              "\n",
              "    .dataframe thead th {\n",
              "        text-align: right;\n",
              "    }\n",
              "</style>\n",
              "<table border=\"1\" class=\"dataframe\">\n",
              "  <thead>\n",
              "    <tr style=\"text-align: right;\">\n",
              "      <th></th>\n",
              "      <th>Unnamed: 0</th>\n",
              "      <th>source</th>\n",
              "      <th>product_name</th>\n",
              "      <th>review_text</th>\n",
              "      <th>rating</th>\n",
              "      <th>polarity</th>\n",
              "    </tr>\n",
              "  </thead>\n",
              "  <tbody>\n",
              "    <tr>\n",
              "      <th>0</th>\n",
              "      <td>0</td>\n",
              "      <td>google-play</td>\n",
              "      <td>Coloring book moana</td>\n",
              "      <td>A kid's excessive ads The types ads allowed ap...</td>\n",
              "      <td>-0.250</td>\n",
              "      <td>Negative</td>\n",
              "    </tr>\n",
              "    <tr>\n",
              "      <th>1</th>\n",
              "      <td>1</td>\n",
              "      <td>google-play</td>\n",
              "      <td>Coloring book moana</td>\n",
              "      <td>It bad :(</td>\n",
              "      <td>-0.725</td>\n",
              "      <td>Negative</td>\n",
              "    </tr>\n",
              "    <tr>\n",
              "      <th>2</th>\n",
              "      <td>2</td>\n",
              "      <td>google-play</td>\n",
              "      <td>Coloring book moana</td>\n",
              "      <td>like</td>\n",
              "      <td>0.000</td>\n",
              "      <td>Neutral</td>\n",
              "    </tr>\n",
              "    <tr>\n",
              "      <th>3</th>\n",
              "      <td>3</td>\n",
              "      <td>google-play</td>\n",
              "      <td>Coloring book moana</td>\n",
              "      <td>NaN</td>\n",
              "      <td>NaN</td>\n",
              "      <td>NaN</td>\n",
              "    </tr>\n",
              "    <tr>\n",
              "      <th>4</th>\n",
              "      <td>4</td>\n",
              "      <td>google-play</td>\n",
              "      <td>Coloring book moana</td>\n",
              "      <td>I love colors inspyering</td>\n",
              "      <td>0.500</td>\n",
              "      <td>Positive</td>\n",
              "    </tr>\n",
              "    <tr>\n",
              "      <th>...</th>\n",
              "      <td>...</td>\n",
              "      <td>...</td>\n",
              "      <td>...</td>\n",
              "      <td>...</td>\n",
              "      <td>...</td>\n",
              "      <td>...</td>\n",
              "    </tr>\n",
              "    <tr>\n",
              "      <th>1783161</th>\n",
              "      <td>1621951</td>\n",
              "      <td>lara-tripadvisor</td>\n",
              "      <td>78587</td>\n",
              "      <td>The hotel is right by Hwy 29 where most of the...</td>\n",
              "      <td>3.000</td>\n",
              "      <td>Positive</td>\n",
              "    </tr>\n",
              "    <tr>\n",
              "      <th>1783162</th>\n",
              "      <td>1621952</td>\n",
              "      <td>lara-tripadvisor</td>\n",
              "      <td>78587</td>\n",
              "      <td>I wanted to find a comfortable room that would...</td>\n",
              "      <td>5.000</td>\n",
              "      <td>Positive</td>\n",
              "    </tr>\n",
              "    <tr>\n",
              "      <th>1783163</th>\n",
              "      <td>1621953</td>\n",
              "      <td>lara-tripadvisor</td>\n",
              "      <td>78587</td>\n",
              "      <td>In spite of its cheesy name, I had a great exp...</td>\n",
              "      <td>4.000</td>\n",
              "      <td>Positive</td>\n",
              "    </tr>\n",
              "    <tr>\n",
              "      <th>1783164</th>\n",
              "      <td>1621954</td>\n",
              "      <td>lara-tripadvisor</td>\n",
              "      <td>78587</td>\n",
              "      <td>We were newly married stayed here for 2 nights...</td>\n",
              "      <td>4.000</td>\n",
              "      <td>Positive</td>\n",
              "    </tr>\n",
              "    <tr>\n",
              "      <th>1783165</th>\n",
              "      <td>1621955</td>\n",
              "      <td>lara-tripadvisor</td>\n",
              "      <td>78587</td>\n",
              "      <td>We were traveling with friends who had a dog s...</td>\n",
              "      <td>3.000</td>\n",
              "      <td>Positive</td>\n",
              "    </tr>\n",
              "  </tbody>\n",
              "</table>\n",
              "<p>1783166 rows × 6 columns</p>\n",
              "</div>"
            ],
            "text/plain": [
              "         Unnamed: 0            source  ... rating  polarity\n",
              "0                 0       google-play  ... -0.250  Negative\n",
              "1                 1       google-play  ... -0.725  Negative\n",
              "2                 2       google-play  ...  0.000   Neutral\n",
              "3                 3       google-play  ...    NaN       NaN\n",
              "4                 4       google-play  ...  0.500  Positive\n",
              "...             ...               ...  ...    ...       ...\n",
              "1783161     1621951  lara-tripadvisor  ...  3.000  Positive\n",
              "1783162     1621952  lara-tripadvisor  ...  5.000  Positive\n",
              "1783163     1621953  lara-tripadvisor  ...  4.000  Positive\n",
              "1783164     1621954  lara-tripadvisor  ...  4.000  Positive\n",
              "1783165     1621955  lara-tripadvisor  ...  3.000  Positive\n",
              "\n",
              "[1783166 rows x 6 columns]"
            ]
          },
          "metadata": {},
          "execution_count": 11
        }
      ]
    },
    {
      "cell_type": "code",
      "metadata": {
        "id": "z2S3HLze3SYx"
      },
      "source": [
        "df = df.sample(n=100, random_state=1)\n",
        "review_batch_large = df.review_text.to_list()"
      ],
      "execution_count": 22,
      "outputs": []
    },
    {
      "cell_type": "code",
      "metadata": {
        "colab": {
          "base_uri": "https://localhost:8080/"
        },
        "id": "GkhtCzaV18_a",
        "outputId": "66a3fa17-8066-468c-d794-6fc1fa2646f8"
      },
      "source": [
        "df_aspects_sentiment_flatten_large = aspect_sentiment_manager.predict_batch(text_reviews=review_batch_large, flatten=True)"
      ],
      "execution_count": 23,
      "outputs": [
        {
          "output_type": "stream",
          "name": "stderr",
          "text": [
            "100it [02:59,  1.79s/it]\n"
          ]
        }
      ]
    },
    {
      "cell_type": "code",
      "metadata": {
        "id": "UPcAhM6r6VW7",
        "colab": {
          "base_uri": "https://localhost:8080/",
          "height": 419
        },
        "outputId": "992b1fb9-23fb-41dd-ed13-2ee4328ecc05"
      },
      "source": [
        "df_aspects_sentiment_flatten_large"
      ],
      "execution_count": 24,
      "outputs": [
        {
          "output_type": "execute_result",
          "data": {
            "text/html": [
              "<div>\n",
              "<style scoped>\n",
              "    .dataframe tbody tr th:only-of-type {\n",
              "        vertical-align: middle;\n",
              "    }\n",
              "\n",
              "    .dataframe tbody tr th {\n",
              "        vertical-align: top;\n",
              "    }\n",
              "\n",
              "    .dataframe thead th {\n",
              "        text-align: right;\n",
              "    }\n",
              "</style>\n",
              "<table border=\"1\" class=\"dataframe\">\n",
              "  <thead>\n",
              "    <tr style=\"text-align: right;\">\n",
              "      <th></th>\n",
              "      <th>id_review</th>\n",
              "      <th>review</th>\n",
              "      <th>aspects</th>\n",
              "      <th>polarity</th>\n",
              "      <th>aspects_aux</th>\n",
              "      <th>polarity_aux</th>\n",
              "    </tr>\n",
              "  </thead>\n",
              "  <tbody>\n",
              "    <tr>\n",
              "      <th>0</th>\n",
              "      <td>0</td>\n",
              "      <td>Although the Red Rock is a ways from the strip...</td>\n",
              "      <td>[(the, Red, Rock), None]</td>\n",
              "      <td>[Positive, Negative]</td>\n",
              "      <td>[rooms, atmosphere]</td>\n",
              "      <td>[Positive, Positive]</td>\n",
              "    </tr>\n",
              "    <tr>\n",
              "      <th>0</th>\n",
              "      <td>1</td>\n",
              "      <td>I got a room here for the NYC marathon I was n...</td>\n",
              "      <td>[things, water, shower, water, floor, room, pa...</td>\n",
              "      <td>[Positive, Positive, Negative, Negative, Negat...</td>\n",
              "      <td>[room, water]</td>\n",
              "      <td>[Positive, Negative]</td>\n",
              "    </tr>\n",
              "    <tr>\n",
              "      <th>0</th>\n",
              "      <td>2</td>\n",
              "      <td>This hotel has everything! Large, stylish and ...</td>\n",
              "      <td>[None, rooms, staff, pool, breakfast, Its, pla...</td>\n",
              "      <td>[Positive, Positive, Positive, Positive, Posit...</td>\n",
              "      <td>[rooms, staff, pool, breakfast]</td>\n",
              "      <td>[Positive, Positive, Positive, Positive]</td>\n",
              "    </tr>\n",
              "    <tr>\n",
              "      <th>0</th>\n",
              "      <td>3</td>\n",
              "      <td>Really poor service if it could be called so, ...</td>\n",
              "      <td>[service, rooms, showers, showers]</td>\n",
              "      <td>[Negative, Negative, Negative, Negative]</td>\n",
              "      <td>[service, WiFi]</td>\n",
              "      <td>[Negative, Negative]</td>\n",
              "    </tr>\n",
              "    <tr>\n",
              "      <th>0</th>\n",
              "      <td>4</td>\n",
              "      <td>I stayed at the winchester in Dec 06 with my h...</td>\n",
              "      <td>[deal, something, type, problems, shower, warm...</td>\n",
              "      <td>[Positive, Positive, Negative, Positive, Posit...</td>\n",
              "      <td>[price]</td>\n",
              "      <td>[Positive]</td>\n",
              "    </tr>\n",
              "    <tr>\n",
              "      <th>...</th>\n",
              "      <td>...</td>\n",
              "      <td>...</td>\n",
              "      <td>...</td>\n",
              "      <td>...</td>\n",
              "      <td>...</td>\n",
              "      <td>...</td>\n",
              "    </tr>\n",
              "    <tr>\n",
              "      <th>0</th>\n",
              "      <td>95</td>\n",
              "      <td>I was celebrating a special weekend and to be ...</td>\n",
              "      <td>[weekend, view, size, None, bar, side, staff, ...</td>\n",
              "      <td>[Positive, Positive, Positive, Negative, neutr...</td>\n",
              "      <td>[room]</td>\n",
              "      <td>[Negative]</td>\n",
              "    </tr>\n",
              "    <tr>\n",
              "      <th>0</th>\n",
              "      <td>96</td>\n",
              "      <td>Fantastic Hotel drifting piling barge</td>\n",
              "      <td>[barge, barge]</td>\n",
              "      <td>[Negative, Negative]</td>\n",
              "      <td>[Hotel]</td>\n",
              "      <td>[Negative]</td>\n",
              "    </tr>\n",
              "    <tr>\n",
              "      <th>0</th>\n",
              "      <td>97</td>\n",
              "      <td>I found the Hotel Edison forty years ago and I...</td>\n",
              "      <td>[charm, features, staff, None]</td>\n",
              "      <td>[Positive, Positive, Positive, Positive]</td>\n",
              "      <td>[None]</td>\n",
              "      <td>[Positive]</td>\n",
              "    </tr>\n",
              "    <tr>\n",
              "      <th>0</th>\n",
              "      <td>98</td>\n",
              "      <td>Uphill from Union Square, good budget hotel My...</td>\n",
              "      <td>[budget, price, hotel, hotels, strike, hotels,...</td>\n",
              "      <td>[Positive, Positive, Positive, Positive, Posit...</td>\n",
              "      <td>[hotel]</td>\n",
              "      <td>[Positive]</td>\n",
              "    </tr>\n",
              "    <tr>\n",
              "      <th>0</th>\n",
              "      <td>99</td>\n",
              "      <td>We just got home from a fun filled weekend in ...</td>\n",
              "      <td>[weekend, one, mike, places, restaurant, hotel]</td>\n",
              "      <td>[Positive, Positive, Positive, Positive, Posit...</td>\n",
              "      <td>[staff]</td>\n",
              "      <td>[Positive]</td>\n",
              "    </tr>\n",
              "  </tbody>\n",
              "</table>\n",
              "<p>95 rows × 6 columns</p>\n",
              "</div>"
            ],
            "text/plain": [
              "    id_review  ...                              polarity_aux\n",
              "0           0  ...                      [Positive, Positive]\n",
              "0           1  ...                      [Positive, Negative]\n",
              "0           2  ...  [Positive, Positive, Positive, Positive]\n",
              "0           3  ...                      [Negative, Negative]\n",
              "0           4  ...                                [Positive]\n",
              "..        ...  ...                                       ...\n",
              "0          95  ...                                [Negative]\n",
              "0          96  ...                                [Negative]\n",
              "0          97  ...                                [Positive]\n",
              "0          98  ...                                [Positive]\n",
              "0          99  ...                                [Positive]\n",
              "\n",
              "[95 rows x 6 columns]"
            ]
          },
          "metadata": {},
          "execution_count": 24
        }
      ]
    },
    {
      "cell_type": "code",
      "metadata": {
        "id": "mkJE01dM9x_I"
      },
      "source": [
        "df_aspects_sentiment_flatten_large.to_csv('df_aspects_sentiment_flatten_large.csv', sep=';', index=False)"
      ],
      "execution_count": 20,
      "outputs": []
    }
  ]
}